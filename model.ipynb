{
 "cells": [
  {
   "cell_type": "code",
   "execution_count": 1,
   "metadata": {},
   "outputs": [],
   "source": [
    "import pandas as pd\n",
    "import numpy as np\n",
    "from sklearn.model_selection import train_test_split\n",
    "from sklearn.feature_extraction.text import CountVectorizer\n",
    "from sklearn.naive_bayes import MultinomialNB\n",
    "from sklearn import metrics\n",
    "from sklearn.feature_extraction.text import TfidfVectorizer\n",
    "import matplotlib.pyplot as plt\n",
    "from sklearn.metrics import classification_report, confusion_matrix\n",
    "from sklearn.feature_extraction import text "
   ]
  },
  {
   "cell_type": "code",
   "execution_count": 2,
   "metadata": {},
   "outputs": [
    {
     "data": {
      "text/html": [
       "<div>\n",
       "<style>\n",
       "    .dataframe thead tr:only-child th {\n",
       "        text-align: right;\n",
       "    }\n",
       "\n",
       "    .dataframe thead th {\n",
       "        text-align: left;\n",
       "    }\n",
       "\n",
       "    .dataframe tbody tr th {\n",
       "        vertical-align: top;\n",
       "    }\n",
       "</style>\n",
       "<table border=\"1\" class=\"dataframe\">\n",
       "  <thead>\n",
       "    <tr style=\"text-align: right;\">\n",
       "      <th></th>\n",
       "      <th>Unnamed: 0</th>\n",
       "      <th>lyrics</th>\n",
       "      <th>label</th>\n",
       "    </tr>\n",
       "  </thead>\n",
       "  <tbody>\n",
       "    <tr>\n",
       "      <th>0</th>\n",
       "      <td>1</td>\n",
       "      <td>too black too strong\\ntoo black too strong\\n\\n...</td>\n",
       "      <td>1</td>\n",
       "    </tr>\n",
       "    <tr>\n",
       "      <th>1</th>\n",
       "      <td>2</td>\n",
       "      <td>flavor flav\\ndon't\\ndon't don't\\ndon't don't\\n...</td>\n",
       "      <td>1</td>\n",
       "    </tr>\n",
       "    <tr>\n",
       "      <th>2</th>\n",
       "      <td>3</td>\n",
       "      <td>i guarantee you no more music by the suckas\\nn...</td>\n",
       "      <td>1</td>\n",
       "    </tr>\n",
       "    <tr>\n",
       "      <th>3</th>\n",
       "      <td>4</td>\n",
       "      <td>go go go go go go\\ntake a look at his style\\nt...</td>\n",
       "      <td>1</td>\n",
       "    </tr>\n",
       "    <tr>\n",
       "      <th>4</th>\n",
       "      <td>5</td>\n",
       "      <td>1 type verse\\n\\ntake that ha ha yeah boy\\nbest...</td>\n",
       "      <td>1</td>\n",
       "    </tr>\n",
       "  </tbody>\n",
       "</table>\n",
       "</div>"
      ],
      "text/plain": [
       "   Unnamed: 0                                             lyrics  label\n",
       "0           1  too black too strong\\ntoo black too strong\\n\\n...      1\n",
       "1           2  flavor flav\\ndon't\\ndon't don't\\ndon't don't\\n...      1\n",
       "2           3  i guarantee you no more music by the suckas\\nn...      1\n",
       "3           4  go go go go go go\\ntake a look at his style\\nt...      1\n",
       "4           5  1 type verse\\n\\ntake that ha ha yeah boy\\nbest...      1"
      ]
     },
     "execution_count": 2,
     "metadata": {},
     "output_type": "execute_result"
    }
   ],
   "source": [
    "# import data\n",
    "\n",
    "df = pd.read_csv('corpus_decade.csv')\n",
    "df.head()"
   ]
  },
  {
   "cell_type": "code",
   "execution_count": 3,
   "metadata": {},
   "outputs": [],
   "source": [
    "# train test split\n",
    "\n",
    "y = df['label']\n",
    "x = df['lyrics']\n",
    "X_train, X_test, Y_train, Y_test = train_test_split(x, y, test_size = 0.33, random_state=14)"
   ]
  },
  {
   "cell_type": "code",
   "execution_count": 4,
   "metadata": {},
   "outputs": [
    {
     "name": "stdout",
     "output_type": "stream",
     "text": [
      "accuracy: 0.7736389684813754\n"
     ]
    }
   ],
   "source": [
    "# Extracting features- CountVectorizer\n",
    "\n",
    "count_vectorizer = CountVectorizer(stop_words = 'english')\n",
    "count_train = count_vectorizer.fit_transform(X_train.values)\n",
    "count_test = count_vectorizer.transform(X_test.values)\n",
    "\n",
    "nb_classifier = MultinomialNB()\n",
    "nb_classifier.fit(count_train, Y_train)\n",
    "pred = nb_classifier.predict(count_test)\n",
    "print('accuracy:', metrics.accuracy_score(Y_test, pred))"
   ]
  },
  {
   "cell_type": "code",
   "execution_count": 5,
   "metadata": {},
   "outputs": [
    {
     "name": "stderr",
     "output_type": "stream",
     "text": [
      "/Users/litalert/anaconda/lib/python3.6/site-packages/sklearn/feature_extraction/text.py:1059: FutureWarning: Conversion of the second argument of issubdtype from `float` to `np.floating` is deprecated. In future, it will be treated as `np.float64 == np.dtype(float).type`.\n",
      "  if hasattr(X, 'dtype') and np.issubdtype(X.dtype, np.float):\n"
     ]
    },
    {
     "name": "stdout",
     "output_type": "stream",
     "text": [
      "accuracy: 0.5300859598853869\n"
     ]
    }
   ],
   "source": [
    "# Extracting features- tfidf\n",
    "\n",
    "tfidf_vectorizer = TfidfVectorizer(stop_words = 'english')\n",
    "tfidf_train = tfidf_vectorizer.fit_transform(X_train.values)\n",
    "tfidf_test = tfidf_vectorizer.transform(X_test.values)\n",
    "\n",
    "nb_classifier_1 = MultinomialNB()\n",
    "nb_classifier_1.fit(tfidf_train, Y_train)\n",
    "pred_1 = nb_classifier_1.predict(tfidf_test)\n",
    "print('accuracy:', metrics.accuracy_score(Y_test, pred_1))"
   ]
  },
  {
   "cell_type": "markdown",
   "metadata": {},
   "source": [
    "<div class=\"span5 alert alert-info\">\n",
    "\n",
    "<ul>\n",
    "Extracting features with CountVectorizer out performed tfidf. Using the built in stop word list, we got model accuracy of 79%. Next, we're going to explore learning curve to see if getting more data would help improving the model\n",
    "\n",
    "</ul>\n",
    "</div>"
   ]
  },
  {
   "cell_type": "code",
   "execution_count": 6,
   "metadata": {},
   "outputs": [
    {
     "data": {
      "image/png": "[encoded data removed]",
      "text/plain": [
       "<matplotlib.figure.Figure at 0x11bdf93c8>"
      ]
     },
     "metadata": {},
     "output_type": "display_data"
    }
   ],
   "source": [
    "# Plotting learning curves \n",
    "\n",
    "# setting up data points\n",
    "df_300 = df.sample(n=300)\n",
    "df_500 = df.sample(n=500)\n",
    "df_700 = df.sample(n=700)\n",
    "df_900 = df.sample(n=900)\n",
    "\n",
    "points = [df_300, df_500, df_700, df_900, df]\n",
    "points_number = [300, 500, 700, 900, 1057]\n",
    "\n",
    "# run multiple models using diffent training size\n",
    "test = []\n",
    "train = []\n",
    "\n",
    "for i in points:\n",
    "    y = i['label']\n",
    "    x = i['lyrics']\n",
    "    X_train, X_test, Y_train, Y_test = train_test_split(x, y, test_size = 0.2, random_state=14)\n",
    "    count_vectorizer = CountVectorizer(stop_words = 'english')\n",
    "    count_train = count_vectorizer.fit_transform(X_train.values)\n",
    "    count_test = count_vectorizer.transform(X_test.values)\n",
    "\n",
    "    nb_classifier = MultinomialNB()\n",
    "    nb_classifier.fit(count_train, Y_train)\n",
    "    pred = nb_classifier.predict(count_test)\n",
    "    pred_ = nb_classifier.predict(count_train)\n",
    "    test_acc = metrics.accuracy_score(Y_test, pred)\n",
    "    train_acc = metrics.accuracy_score(Y_train, pred_)\n",
    "    \n",
    "    test.append(test_acc)\n",
    "    train.append(train_acc)\n",
    "\n",
    "# calculating test/train errors\n",
    "test_err = []\n",
    "train_err = []\n",
    "for i in test:\n",
    "    err = 1-i\n",
    "    test_err.append(err)\n",
    "for i in train:\n",
    "    err = 1-i\n",
    "    train_err.append(err)\n",
    "    \n",
    "# generating graph\n",
    "plt.plot(points_number, train_err, color='blue', label='train')\n",
    "plt.plot(points_number, test_err, color='orange', label='test')\n",
    "plt.title('Learning Curves')\n",
    "plt.xlabel('Training Size')\n",
    "plt.ylabel('Error')\n",
    "plt.legend()\n",
    "plt.show()"
   ]
  },
  {
   "cell_type": "markdown",
   "metadata": {},
   "source": [
    "<div class=\"span5 alert alert-info\">\n",
    "\n",
    "<ul>\n",
    "From the plot, it looks like the test error will keep going down as training size increases. In theory, the two plot could get closer, but never cross. Extrapolating the plot, I'm convinced that the test error will decrease if we get more data. Next, we'll build a model with more data and evaluate the results.\n",
    "\n",
    "</ul>\n",
    "</div>"
   ]
  },
  {
   "cell_type": "code",
   "execution_count": 7,
   "metadata": {},
   "outputs": [
    {
     "name": "stdout",
     "output_type": "stream",
     "text": [
      "accuracy ( alpha = 0.001 ): 0.7409638554216867\n",
      "accuracy ( alpha = 0.01 ): 0.7650602409638554\n",
      "accuracy ( alpha = 0.1 ): 0.7740963855421686\n",
      "accuracy ( alpha = 1 ): 0.7891566265060241\n",
      "accuracy ( alpha = 10 ): 0.5210843373493976\n",
      "accuracy ( alpha = 100 ): 0.39156626506024095\n",
      "accuracy ( alpha = 1000 ): 0.3885542168674699\n",
      "accuracy ( alpha = 0.5 ): 0.7951807228915663\n"
     ]
    }
   ],
   "source": [
    "# building model with more data and perform parameter tuning\n",
    "\n",
    "# import data\n",
    "df2 = pd.read_csv('corpus_decade_2.csv')\n",
    "df2 = pd.concat([df, df2], axis=0)\n",
    "\n",
    "# train test split\n",
    "y = df2['label']\n",
    "x = df2['lyrics']\n",
    "X_train, X_test, Y_train, Y_test = train_test_split(x, y, test_size = 0.2, random_state=14)\n",
    "\n",
    "# token count\n",
    "count_vectorizer = CountVectorizer(stop_words = 'english')\n",
    "count_train = count_vectorizer.fit_transform(X_train.values)\n",
    "count_test = count_vectorizer.transform(X_test.values)\n",
    "\n",
    "alphas = [0.001, 0.01, 0.1, 1, 10, 100, 1000, 0.5]\n",
    "for i in alphas:\n",
    "    nb_classifier = MultinomialNB(alpha = i)\n",
    "    nb_classifier.fit(count_train, Y_train)\n",
    "    pred = nb_classifier.predict(count_test)\n",
    "    print('accuracy ( alpha =', i, '):', metrics.accuracy_score(Y_test, pred))"
   ]
  },
  {
   "cell_type": "code",
   "execution_count": 8,
   "metadata": {},
   "outputs": [
    {
     "data": {
      "image/png": "[encoded data removed]",
      "text/plain": [
       "<matplotlib.figure.Figure at 0x11bdf9c88>"
      ]
     },
     "metadata": {},
     "output_type": "display_data"
    }
   ],
   "source": [
    "# Plotting learning curves \n",
    "\n",
    "df_300 = df2.sample(n=300)\n",
    "df_500 = df2.sample(n=500)\n",
    "df_700 = df2.sample(n=700)\n",
    "df_900 = df2.sample(n=900)\n",
    "df_1100 = df2.sample(n=1100)\n",
    "df_1300 = df2.sample(n=1300)\n",
    "\n",
    "points = [df_300, df_500, df_700, df_900, df_1100, df_1300, df2]\n",
    "points_number = [300, 500, 700, 900, 1100, 1300, 1659]\n",
    "\n",
    "test = []\n",
    "train = []\n",
    "\n",
    "for i in points:\n",
    "    y = i['label']\n",
    "    x = i['lyrics']\n",
    "    X_train, X_test, Y_train, Y_test = train_test_split(x, y, test_size = 0.2, random_state=14)\n",
    "    count_vectorizer = CountVectorizer(stop_words = 'english')\n",
    "    count_train = count_vectorizer.fit_transform(X_train.values)\n",
    "    count_test = count_vectorizer.transform(X_test.values)\n",
    "\n",
    "    nb_classifier = MultinomialNB()\n",
    "    nb_classifier.fit(count_train, Y_train)\n",
    "    pred = nb_classifier.predict(count_test)\n",
    "    pred_ = nb_classifier.predict(count_train)\n",
    "    test_acc = metrics.accuracy_score(Y_test, pred)\n",
    "    train_acc = metrics.accuracy_score(Y_train, pred_)\n",
    "    \n",
    "    test.append(test_acc)\n",
    "    train.append(train_acc)\n",
    "\n",
    "test_err = []\n",
    "train_err = []\n",
    "for i in test:\n",
    "    err = 1-i\n",
    "    test_err.append(err)\n",
    "for i in train:\n",
    "    err = 1-i\n",
    "    train_err.append(err)\n",
    "    \n",
    "plt.plot(points_number, train_err, color='blue', label='train')\n",
    "plt.plot(points_number, test_err, color='orange', label='test')\n",
    "plt.title('Learning Curves')\n",
    "plt.xlabel('Training Size')\n",
    "plt.ylabel('Error')\n",
    "plt.legend()\n",
    "plt.show()"
   ]
  },
  {
   "cell_type": "markdown",
   "metadata": {},
   "source": [
    "<div class=\"span5 alert alert-info\">\n",
    "\n",
    "<ul>\n",
    "Using more data and tuning the alpha value improved the model by 2%. At this point, I decided not to get anymore data as we can see that the test set learning curve flatten out. I don't expect significant improvment on the model as we spend more time collecting more data. Next, we're going to look at the matrics and feature coefficient in order to identify ways to further improve the model. \n",
    "\n",
    "</ul>\n",
    "</div>"
   ]
  },
  {
   "cell_type": "code",
   "execution_count": 9,
   "metadata": {},
   "outputs": [
    {
     "name": "stdout",
     "output_type": "stream",
     "text": [
      "Confusion Matrix:\n",
      "[[ 60  13   7]\n",
      " [  8 106  14]\n",
      " [  4  24  96]]\n"
     ]
    }
   ],
   "source": [
    "# confusion matrix\n",
    "\n",
    "print('Confusion Matrix:')\n",
    "print(confusion_matrix(Y_test, pred))"
   ]
  },
  {
   "cell_type": "code",
   "execution_count": 10,
   "metadata": {},
   "outputs": [
    {
     "name": "stdout",
     "output_type": "stream",
     "text": [
      "80s: em beat rock ain mc make let come said say yo time man just know ll got don cause like\n",
      "90s: niggaz yeah black come make let time ya nigga ll ain shit man yo just know cause don got like\n",
      "2000+: say let come make life ll yo fuck yeah love man cause nigga shit ain just got know don like\n"
     ]
    }
   ],
   "source": [
    "# print features with the highest coefficient values\n",
    "\n",
    "def print_top20(vectorizer, clf, class_labels):\n",
    "    feature_names = vectorizer.get_feature_names()\n",
    "    for i, class_label in enumerate(class_labels):\n",
    "        top20 = np.argsort(clf.coef_[i])[-20:]\n",
    "        print(\"%s: %s\" % (class_label,\n",
    "              \" \".join(feature_names[j] for j in top20)))\n",
    "\n",
    "print_top20(count_vectorizer, nb_classifier, ['80s', '90s', '2000+'])"
   ]
  },
  {
   "cell_type": "markdown",
   "metadata": {},
   "source": [
    "<div class=\"span5 alert alert-info\">\n",
    "\n",
    "<ul>\n",
    "The list above are the features with the highest coefficent values from each class. As we can see, the built-in stop words list doesn't cover unusual \"stop words\" found in hip-hop song lyrics. Next, I'm going add additional words to the built-in stop words list with the hope to improve the model performance. Based on the confusion matrix above, we can see that most misclassifications happen between classes 2 and 3 (90s and 2000+). So, the selected features are the ones that appear in all class or appear in both classes 2 and 3. \n",
    "\n",
    "</ul>\n",
    "</div>"
   ]
  },
  {
   "cell_type": "code",
   "execution_count": 11,
   "metadata": {},
   "outputs": [
    {
     "name": "stdout",
     "output_type": "stream",
     "text": [
      "accuracy: 0.8160377358490566\n"
     ]
    }
   ],
   "source": [
    "# optimized model\n",
    "\n",
    "# adding more words to stop_words list\n",
    "more_words = ['like', 'cause', 'don', 'got', 'just', 'know', 'man', 'ain', 'yo', 'say', 'll', 'time', 'let', 'make', 'life', 'right', 'nigga']\n",
    "stop_words_ = text.ENGLISH_STOP_WORDS.union(more_words)\n",
    "\n",
    "y = df['label']\n",
    "x = df['lyrics']\n",
    "X_train, X_test, Y_train, Y_test = train_test_split(x, y, test_size = 0.2, random_state=14)\n",
    "count_vectorizer = CountVectorizer(stop_words = stop_words_)\n",
    "count_train = count_vectorizer.fit_transform(X_train.values)\n",
    "count_test = count_vectorizer.transform(X_test.values)\n",
    "nb_classifier = MultinomialNB(alpha = 0.5)\n",
    "nb_classifier.fit(count_train, Y_train)\n",
    "pred = nb_classifier.predict(count_test)\n",
    "print('accuracy:', metrics.accuracy_score(Y_test, pred))"
   ]
  },
  {
   "cell_type": "code",
   "execution_count": 12,
   "metadata": {},
   "outputs": [
    {
     "name": "stdout",
     "output_type": "stream",
     "text": [
      "\n",
      "\n",
      "Classification Repart:\n",
      "             precision    recall  f1-score   support\n",
      "\n",
      "          1       0.87      0.85      0.86        53\n",
      "          2       0.78      0.84      0.81        82\n",
      "          3       0.83      0.77      0.80        77\n",
      "\n",
      "avg / total       0.82      0.82      0.82       212\n",
      "\n"
     ]
    }
   ],
   "source": [
    "# classification report\n",
    "\n",
    "print('\\n')\n",
    "print('Classification Repart:')\n",
    "print(classification_report(Y_test, pred))"
   ]
  },
  {
   "cell_type": "code",
   "execution_count": null,
   "metadata": {
    "collapsed": true
   },
   "outputs": [],
   "source": []
  }
 ],
 "metadata": {
  "kernelspec": {
   "display_name": "Python 3",
   "language": "python",
   "name": "python3"
  },
  "language_info": {
   "codemirror_mode": {
    "name": "ipython",
    "version": 3
   },
   "file_extension": ".py",
   "mimetype": "text/x-python",
   "name": "python",
   "nbconvert_exporter": "python",
   "pygments_lexer": "ipython3",
   "version": "3.6.1"
  }
 },
 "nbformat": 4,
 "nbformat_minor": 2
}
